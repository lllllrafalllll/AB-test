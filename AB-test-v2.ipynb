{
 "cells": [
  {
   "cell_type": "code",
   "execution_count": 55,
   "metadata": {},
   "outputs": [],
   "source": [
    "import pandas as pd\n",
    "import seaborn as sns\n",
    "import numpy as np\n",
    "from scipy.stats import norm, chi2_contingency, shapiro, mannwhitneyu\n",
    "import statsmodels.stats.api as sms\n",
    "from tqdm.auto import tqdm\n",
    "import matplotlib.pyplot as plt\n",
    "import os\n",
    "import os.path\n",
    "\n",
    "plt.style.use('ggplot')"
   ]
  },
  {
   "cell_type": "code",
   "execution_count": 56,
   "metadata": {},
   "outputs": [],
   "source": [
    "#  файл с информацией о принадлежности пользователя к контрольной\n",
    "#  или экспериментальной группе (А – контроль, B – целевая группа)\n",
    "\n",
    "groups = pd.read_csv(\"Проект_2_groups.csv\", sep=\";\")\n",
    "\n",
    "# файл с информацией о пользователях, которые зашли \n",
    "# на платформу в дни проведения эксперимента.\n",
    "\n",
    "active_studs = pd.read_csv(\"Проект_2_active_studs.csv\").rename(columns={'student_id': 'id'})\n",
    "#добавляем доп.колонку active со значением \"1\"\n",
    "active_studs['active'] = 1\n",
    "\n",
    "# файл с информацией об оплатах пользователей в дни проведения эксперимента.\n",
    "#переименоваем столбец\n",
    "checks = pd.read_csv(\"Проект_2_checks.csv\", sep=\";\").rename(columns={'student_id': 'id'})\n",
    "\n",
    "# дополнительный файл с пользователями, который вам прислали спустя 2 дня после передачи данных\n",
    "\n",
    "group_add = pd.read_csv('Проект_2_group_add.csv')"
   ]
  },
  {
   "cell_type": "markdown",
   "metadata": {},
   "source": [
    "# Условие задачи"
   ]
  },
  {
   "cell_type": "markdown",
   "metadata": {},
   "source": [
    "Одной из основных задач аналитика в нашей команде является корректное проведение экспериментов. Для этого мы применяем метод A/B–тестирования. В ходе тестирования одной гипотезы целевой группе была предложена новая механика оплаты услуг на сайте, у контрольной группы оставалась базовая механика. В качестве задания Вам необходимо проанализировать итоги эксперимента и сделать вывод, стоит ли запускать новую механику оплаты на всех пользователей.\n",
    "\n",
    "**Т.к. мы предлагаем новый механизм оплаты услуг на сайте, проверим на сколько значимо изменилось кол-во оплат у тестовой группы по сравнению с контрольной.**\n"
   ]
  },
  {
   "cell_type": "markdown",
   "metadata": {},
   "source": [
    "# Подготовка и анализ данных"
   ]
  },
  {
   "cell_type": "code",
   "execution_count": 57,
   "metadata": {},
   "outputs": [],
   "source": [
    "#сойденяем таблицы groups + group_add\n",
    "data = pd.concat([groups,group_add],axis=0)"
   ]
  },
  {
   "cell_type": "code",
   "execution_count": 58,
   "metadata": {},
   "outputs": [
    {
     "data": {
      "text/plain": [
       "(74576, 2)"
      ]
     },
     "execution_count": 58,
     "metadata": {},
     "output_type": "execute_result"
    }
   ],
   "source": [
    "#проверка кол-во строк до\n",
    "data.shape"
   ]
  },
  {
   "cell_type": "code",
   "execution_count": 5,
   "metadata": {},
   "outputs": [
    {
     "data": {
      "text/html": [
       "<div>\n",
       "<style scoped>\n",
       "    .dataframe tbody tr th:only-of-type {\n",
       "        vertical-align: middle;\n",
       "    }\n",
       "\n",
       "    .dataframe tbody tr th {\n",
       "        vertical-align: top;\n",
       "    }\n",
       "\n",
       "    .dataframe thead th {\n",
       "        text-align: right;\n",
       "    }\n",
       "</style>\n",
       "<table border=\"1\" class=\"dataframe\">\n",
       "  <thead>\n",
       "    <tr style=\"text-align: right;\">\n",
       "      <th></th>\n",
       "      <th>id</th>\n",
       "      <th>grp</th>\n",
       "      <th>rev</th>\n",
       "      <th>active</th>\n",
       "      <th>qty_pay</th>\n",
       "    </tr>\n",
       "  </thead>\n",
       "  <tbody>\n",
       "    <tr>\n",
       "      <th>0</th>\n",
       "      <td>1489</td>\n",
       "      <td>B</td>\n",
       "      <td>0.0</td>\n",
       "      <td>0.0</td>\n",
       "      <td>0</td>\n",
       "    </tr>\n",
       "    <tr>\n",
       "      <th>1</th>\n",
       "      <td>1627</td>\n",
       "      <td>A</td>\n",
       "      <td>990.0</td>\n",
       "      <td>1.0</td>\n",
       "      <td>1</td>\n",
       "    </tr>\n",
       "    <tr>\n",
       "      <th>2</th>\n",
       "      <td>1768</td>\n",
       "      <td>B</td>\n",
       "      <td>0.0</td>\n",
       "      <td>0.0</td>\n",
       "      <td>0</td>\n",
       "    </tr>\n",
       "    <tr>\n",
       "      <th>3</th>\n",
       "      <td>1783</td>\n",
       "      <td>B</td>\n",
       "      <td>0.0</td>\n",
       "      <td>0.0</td>\n",
       "      <td>0</td>\n",
       "    </tr>\n",
       "    <tr>\n",
       "      <th>4</th>\n",
       "      <td>1794</td>\n",
       "      <td>A</td>\n",
       "      <td>0.0</td>\n",
       "      <td>0.0</td>\n",
       "      <td>0</td>\n",
       "    </tr>\n",
       "  </tbody>\n",
       "</table>\n",
       "</div>"
      ],
      "text/plain": [
       "     id grp    rev  active  qty_pay\n",
       "0  1489   B    0.0     0.0        0\n",
       "1  1627   A  990.0     1.0        1\n",
       "2  1768   B    0.0     0.0        0\n",
       "3  1783   B    0.0     0.0        0\n",
       "4  1794   A    0.0     0.0        0"
      ]
     },
     "execution_count": 5,
     "metadata": {},
     "output_type": "execute_result"
    }
   ],
   "source": [
    "#Объединение данных и замена Nan на \"0\"\n",
    "df = data.merge(checks, how='left').merge(active_studs, how='left').merge(group_add, how='left').fillna(0)\n",
    "#добавление столбца с кол-во оплат.\n",
    "df['qty_pay'] = df['rev'].apply(lambda x: 1 if x>0 else 0)\n",
    "df.head()"
   ]
  },
  {
   "cell_type": "code",
   "execution_count": 6,
   "metadata": {},
   "outputs": [
    {
     "data": {
      "text/plain": [
       "(74576, 5)"
      ]
     },
     "execution_count": 6,
     "metadata": {},
     "output_type": "execute_result"
    }
   ],
   "source": [
    "#кол-во строк после объединение \n",
    "df.shape"
   ]
  },
  {
   "cell_type": "code",
   "execution_count": 7,
   "metadata": {},
   "outputs": [
    {
     "data": {
      "text/plain": [
       "id           int64\n",
       "grp         object\n",
       "rev        float64\n",
       "active     float64\n",
       "qty_pay      int64\n",
       "dtype: object"
      ]
     },
     "execution_count": 7,
     "metadata": {},
     "output_type": "execute_result"
    }
   ],
   "source": [
    "#проверка типа данных\n",
    "df.dtypes"
   ]
  },
  {
   "cell_type": "code",
   "execution_count": 8,
   "metadata": {},
   "outputs": [
    {
     "data": {
      "text/html": [
       "<div>\n",
       "<style scoped>\n",
       "    .dataframe tbody tr th:only-of-type {\n",
       "        vertical-align: middle;\n",
       "    }\n",
       "\n",
       "    .dataframe tbody tr th {\n",
       "        vertical-align: top;\n",
       "    }\n",
       "\n",
       "    .dataframe thead th {\n",
       "        text-align: right;\n",
       "    }\n",
       "</style>\n",
       "<table border=\"1\" class=\"dataframe\">\n",
       "  <thead>\n",
       "    <tr style=\"text-align: right;\">\n",
       "      <th></th>\n",
       "      <th>id</th>\n",
       "    </tr>\n",
       "    <tr>\n",
       "      <th>grp</th>\n",
       "      <th></th>\n",
       "    </tr>\n",
       "  </thead>\n",
       "  <tbody>\n",
       "    <tr>\n",
       "      <th>A</th>\n",
       "      <td>14693</td>\n",
       "    </tr>\n",
       "    <tr>\n",
       "      <th>B</th>\n",
       "      <td>59883</td>\n",
       "    </tr>\n",
       "  </tbody>\n",
       "</table>\n",
       "</div>"
      ],
      "text/plain": [
       "        id\n",
       "grp       \n",
       "A    14693\n",
       "B    59883"
      ]
     },
     "execution_count": 8,
     "metadata": {},
     "output_type": "execute_result"
    }
   ],
   "source": [
    "#\n",
    "df.groupby('grp').agg({'id': 'count'})"
   ]
  },
  {
   "cell_type": "code",
   "execution_count": 9,
   "metadata": {},
   "outputs": [
    {
     "data": {
      "text/html": [
       "<div>\n",
       "<style scoped>\n",
       "    .dataframe tbody tr th:only-of-type {\n",
       "        vertical-align: middle;\n",
       "    }\n",
       "\n",
       "    .dataframe tbody tr th {\n",
       "        vertical-align: top;\n",
       "    }\n",
       "\n",
       "    .dataframe thead th {\n",
       "        text-align: right;\n",
       "    }\n",
       "</style>\n",
       "<table border=\"1\" class=\"dataframe\">\n",
       "  <thead>\n",
       "    <tr style=\"text-align: right;\">\n",
       "      <th></th>\n",
       "      <th>active</th>\n",
       "      <th>grp</th>\n",
       "      <th>id</th>\n",
       "      <th>qty_pay</th>\n",
       "      <th>rev</th>\n",
       "    </tr>\n",
       "  </thead>\n",
       "  <tbody>\n",
       "    <tr>\n",
       "      <th>0</th>\n",
       "      <td>0.0</td>\n",
       "      <td>A</td>\n",
       "      <td>13155</td>\n",
       "      <td>0.002204</td>\n",
       "      <td>1.465298</td>\n",
       "    </tr>\n",
       "    <tr>\n",
       "      <th>1</th>\n",
       "      <td>0.0</td>\n",
       "      <td>B</td>\n",
       "      <td>53080</td>\n",
       "      <td>0.002261</td>\n",
       "      <td>1.625019</td>\n",
       "    </tr>\n",
       "    <tr>\n",
       "      <th>2</th>\n",
       "      <td>1.0</td>\n",
       "      <td>A</td>\n",
       "      <td>1538</td>\n",
       "      <td>0.050715</td>\n",
       "      <td>47.347204</td>\n",
       "    </tr>\n",
       "    <tr>\n",
       "      <th>3</th>\n",
       "      <td>1.0</td>\n",
       "      <td>B</td>\n",
       "      <td>6803</td>\n",
       "      <td>0.046156</td>\n",
       "      <td>58.058798</td>\n",
       "    </tr>\n",
       "  </tbody>\n",
       "</table>\n",
       "</div>"
      ],
      "text/plain": [
       "   active grp     id   qty_pay        rev\n",
       "0     0.0   A  13155  0.002204   1.465298\n",
       "1     0.0   B  53080  0.002261   1.625019\n",
       "2     1.0   A   1538  0.050715  47.347204\n",
       "3     1.0   B   6803  0.046156  58.058798"
      ]
     },
     "execution_count": 9,
     "metadata": {},
     "output_type": "execute_result"
    }
   ],
   "source": [
    "df.groupby(['active', 'grp'], as_index=False).agg({'id': 'count', 'qty_pay': 'mean', 'rev': lambda x: np.mean(x)})"
   ]
  },
  {
   "cell_type": "markdown",
   "metadata": {},
   "source": [
    "**Есть часть клиентов, которые оплатили не в день проведения эксперимента, их мы исключаем из данных.**"
   ]
  },
  {
   "cell_type": "code",
   "execution_count": 10,
   "metadata": {},
   "outputs": [],
   "source": [
    "#Разделяем на две группы control и test\n",
    "df_control = df[(df['grp']=='A')&(df['active'] == 1)][['grp', 'qty_pay']]\n",
    "df_control.reset_index(inplace=True, drop = True)"
   ]
  },
  {
   "cell_type": "code",
   "execution_count": 11,
   "metadata": {},
   "outputs": [],
   "source": [
    "df_test = df[(df['grp']=='B')&(df['active'] == 1)][['grp', 'qty_pay']]\n",
    "df_test.reset_index(inplace=True, drop = True)"
   ]
  },
  {
   "cell_type": "code",
   "execution_count": 12,
   "metadata": {},
   "outputs": [
    {
     "data": {
      "text/html": [
       "<div>\n",
       "<style scoped>\n",
       "    .dataframe tbody tr th:only-of-type {\n",
       "        vertical-align: middle;\n",
       "    }\n",
       "\n",
       "    .dataframe tbody tr th {\n",
       "        vertical-align: top;\n",
       "    }\n",
       "\n",
       "    .dataframe thead th {\n",
       "        text-align: right;\n",
       "    }\n",
       "</style>\n",
       "<table border=\"1\" class=\"dataframe\">\n",
       "  <thead>\n",
       "    <tr style=\"text-align: right;\">\n",
       "      <th></th>\n",
       "      <th>count</th>\n",
       "      <th>mean</th>\n",
       "      <th>std</th>\n",
       "      <th>min</th>\n",
       "      <th>25%</th>\n",
       "      <th>50%</th>\n",
       "      <th>75%</th>\n",
       "      <th>max</th>\n",
       "    </tr>\n",
       "  </thead>\n",
       "  <tbody>\n",
       "    <tr>\n",
       "      <th>qty_pay</th>\n",
       "      <td>1538.0</td>\n",
       "      <td>0.050715</td>\n",
       "      <td>0.219487</td>\n",
       "      <td>0.0</td>\n",
       "      <td>0.0</td>\n",
       "      <td>0.0</td>\n",
       "      <td>0.0</td>\n",
       "      <td>1.0</td>\n",
       "    </tr>\n",
       "  </tbody>\n",
       "</table>\n",
       "</div>"
      ],
      "text/plain": [
       "          count      mean       std  min  25%  50%  75%  max\n",
       "qty_pay  1538.0  0.050715  0.219487  0.0  0.0  0.0  0.0  1.0"
      ]
     },
     "execution_count": 12,
     "metadata": {},
     "output_type": "execute_result"
    }
   ],
   "source": [
    "df_control.describe().T"
   ]
  },
  {
   "cell_type": "code",
   "execution_count": 13,
   "metadata": {},
   "outputs": [
    {
     "data": {
      "text/html": [
       "<div>\n",
       "<style scoped>\n",
       "    .dataframe tbody tr th:only-of-type {\n",
       "        vertical-align: middle;\n",
       "    }\n",
       "\n",
       "    .dataframe tbody tr th {\n",
       "        vertical-align: top;\n",
       "    }\n",
       "\n",
       "    .dataframe thead th {\n",
       "        text-align: right;\n",
       "    }\n",
       "</style>\n",
       "<table border=\"1\" class=\"dataframe\">\n",
       "  <thead>\n",
       "    <tr style=\"text-align: right;\">\n",
       "      <th></th>\n",
       "      <th>count</th>\n",
       "      <th>mean</th>\n",
       "      <th>std</th>\n",
       "      <th>min</th>\n",
       "      <th>25%</th>\n",
       "      <th>50%</th>\n",
       "      <th>75%</th>\n",
       "      <th>max</th>\n",
       "    </tr>\n",
       "  </thead>\n",
       "  <tbody>\n",
       "    <tr>\n",
       "      <th>qty_pay</th>\n",
       "      <td>6803.0</td>\n",
       "      <td>0.046156</td>\n",
       "      <td>0.209838</td>\n",
       "      <td>0.0</td>\n",
       "      <td>0.0</td>\n",
       "      <td>0.0</td>\n",
       "      <td>0.0</td>\n",
       "      <td>1.0</td>\n",
       "    </tr>\n",
       "  </tbody>\n",
       "</table>\n",
       "</div>"
      ],
      "text/plain": [
       "          count      mean       std  min  25%  50%  75%  max\n",
       "qty_pay  6803.0  0.046156  0.209838  0.0  0.0  0.0  0.0  1.0"
      ]
     },
     "execution_count": 13,
     "metadata": {},
     "output_type": "execute_result"
    }
   ],
   "source": [
    "df_test.describe().T"
   ]
  },
  {
   "cell_type": "markdown",
   "metadata": {},
   "source": [
    "В контрольном и тестовом наборе данных посчитаем соотношение тех\n",
    "кто совершил покупку, по сравнению со всеми, кто заходит на сайт в день проведения эксперемента"
   ]
  },
  {
   "cell_type": "code",
   "execution_count": 14,
   "metadata": {},
   "outputs": [
    {
     "name": "stdout",
     "output_type": "stream",
     "text": [
      "Контрольная группа\n",
      "Кол-во покупок:  78\n",
      "Кол-во поситителей:  1538\n"
     ]
    }
   ],
   "source": [
    "control_sum_qty = df_control['qty_pay'].sum()\n",
    "print(\"Контрольная группа\")\n",
    "print(\"Кол-во покупок: \", control_sum_qty)\n",
    "control_visit = df_control['qty_pay'].count()\n",
    "print(\"Кол-во поситителей: \", control_visit)"
   ]
  },
  {
   "cell_type": "code",
   "execution_count": 15,
   "metadata": {},
   "outputs": [
    {
     "data": {
      "text/plain": [
       "0.05071521456436931"
      ]
     },
     "execution_count": 15,
     "metadata": {},
     "output_type": "execute_result"
    }
   ],
   "source": [
    "control_ratio = control_sum_qty/control_visit\n",
    "control_ratio"
   ]
  },
  {
   "cell_type": "code",
   "execution_count": 16,
   "metadata": {},
   "outputs": [
    {
     "name": "stdout",
     "output_type": "stream",
     "text": [
      "Тестовая группа\n",
      "Кол-во покупок:  314\n",
      "Кол-во поситителей:  6803\n"
     ]
    }
   ],
   "source": [
    "test_sum_qty = df_test['qty_pay'].sum()\n",
    "print(\"Тестовая группа\")\n",
    "print(\"Кол-во покупок: \", test_sum_qty)\n",
    "test_visit = df_test['qty_pay'].count()\n",
    "print(\"Кол-во поситителей: \", test_visit)"
   ]
  },
  {
   "cell_type": "code",
   "execution_count": 17,
   "metadata": {},
   "outputs": [
    {
     "data": {
      "text/plain": [
       "0.046156107599588415"
      ]
     },
     "execution_count": 17,
     "metadata": {},
     "output_type": "execute_result"
    }
   ],
   "source": [
    "test_ratio = test_sum_qty/test_visit\n",
    "test_ratio"
   ]
  },
  {
   "cell_type": "markdown",
   "metadata": {},
   "source": [
    "Когда мы смотрим на конверсию в покупках, мы видим, что между двумя группами есть разница. \n",
    "Кажется, что новая механика оплаты услуг на сайте, примененная к тестовой группе, получает меньше покупок. \n",
    "Но этот результат может ввести в заблуждение. Поэтому следует искать ответ на вопрос, есть ли статистически значимая разница. \n",
    "Теперь проведем A/B-тестирование.\n",
    "\n",
    "Для применения A/B-тестирования набор данных должен удовлетворять предположениям об однородности нормальности и дисперсии.\n",
    "Затем можно перейти к реализации проверки гипотез.\n",
    "\n",
    "Если обеспечивается однородность нормальности и дисперсии, \n",
    "применяется независимый двухвыборочный t-критерий (параметрический критерий).\n",
    "Если нормальность и однородность дисперсии не обеспечиваются, \n",
    "выполняется U-критерий Манна-Уитни (непараметрический критерий). \n",
    "Как проверить предположение о нормальности? При этом мы сначала определим гипотезы H0 и H1.\n",
    "\n",
    "**H0 : Предполагается нормальность.**\n",
    "\n",
    "**H1 : Предположение о нормальности не предусмотрено.**\n",
    "    \n",
    "Теперь проверим предположение о нормальности."
   ]
  },
  {
   "cell_type": "markdown",
   "metadata": {},
   "source": [
    "# Двухвыборочный t-критерий"
   ]
  },
  {
   "cell_type": "code",
   "execution_count": 18,
   "metadata": {},
   "outputs": [
    {
     "name": "stdout",
     "output_type": "stream",
     "text": [
      "Test Stat = 0.2259, p-value = 0.0000\n"
     ]
    }
   ],
   "source": [
    "test_stat, pvalue = shapiro(df_control['qty_pay'])\n",
    "print('Test Stat = %.4f, p-value = %.4f' % (test_stat, pvalue))"
   ]
  },
  {
   "cell_type": "code",
   "execution_count": 19,
   "metadata": {},
   "outputs": [
    {
     "name": "stdout",
     "output_type": "stream",
     "text": [
      "Test Stat = 0.2125, p-value = 0.0000\n"
     ]
    },
    {
     "name": "stderr",
     "output_type": "stream",
     "text": [
      "/opt/tljh/user/lib/python3.7/site-packages/scipy/stats/morestats.py:1760: UserWarning: p-value may not be accurate for N > 5000.\n",
      "  warnings.warn(\"p-value may not be accurate for N > 5000.\")\n"
     ]
    }
   ],
   "source": [
    "test_stat, pvalue = shapiro(df_test['qty_pay'])\n",
    "print('Test Stat = %.4f, p-value = %.4f' % (test_stat, pvalue))"
   ]
  },
  {
   "cell_type": "markdown",
   "metadata": {},
   "source": [
    "**H0 отклоняется, поскольку значение p <0,05. Предположение о нормальности не было обеспечено.**\n",
    "\n",
    "Поэтому воспользуемся U-критерием Манна-Уитни.\n",
    "\n",
    "**H0 : Между двумя группами нет существенной разницы в отношении новой механика оплаты услуг на сайте.**\n",
    "\n",
    "**Н1: Есть разница.**"
   ]
  },
  {
   "cell_type": "markdown",
   "metadata": {},
   "source": [
    "# Mann-Whitney U Test"
   ]
  },
  {
   "cell_type": "code",
   "execution_count": 20,
   "metadata": {},
   "outputs": [
    {
     "name": "stdout",
     "output_type": "stream",
     "text": [
      "Test Stat = 5255358.0000, p-value = 0.4455\n"
     ]
    }
   ],
   "source": [
    "test_stat, pvalue = mannwhitneyu(df_control[\"qty_pay\"],\n",
    "                                 df_test[\"qty_pay\"])\n",
    "print('Test Stat = %.4f, p-value = %.4f' % (test_stat, pvalue))"
   ]
  },
  {
   "cell_type": "markdown",
   "metadata": {},
   "source": [
    "H0 не отклоняется, поскольку значение p>0,05.\n",
    "Другими словами, мы можем статистически сказать, что между двумя группами нет различия."
   ]
  },
  {
   "cell_type": "code",
   "execution_count": 21,
   "metadata": {},
   "outputs": [],
   "source": [
    "group_count = df.query('active == 1').groupby(['grp', 'qty_pay'])['grp'].count().reset_index(name='Count')\n",
    "groupped = pd.crosstab(group_count['grp']\\\n",
    "                       , group_count['qty_pay']\\\n",
    "                       , values=group_count['Count']\\\n",
    "                       , aggfunc=np.sum, margins=True)"
   ]
  },
  {
   "cell_type": "code",
   "execution_count": 22,
   "metadata": {},
   "outputs": [
    {
     "data": {
      "text/html": [
       "<div>\n",
       "<style scoped>\n",
       "    .dataframe tbody tr th:only-of-type {\n",
       "        vertical-align: middle;\n",
       "    }\n",
       "\n",
       "    .dataframe tbody tr th {\n",
       "        vertical-align: top;\n",
       "    }\n",
       "\n",
       "    .dataframe thead th {\n",
       "        text-align: right;\n",
       "    }\n",
       "</style>\n",
       "<table border=\"1\" class=\"dataframe\">\n",
       "  <thead>\n",
       "    <tr style=\"text-align: right;\">\n",
       "      <th>qty_pay</th>\n",
       "      <th>0</th>\n",
       "      <th>1</th>\n",
       "      <th>All</th>\n",
       "    </tr>\n",
       "    <tr>\n",
       "      <th>grp</th>\n",
       "      <th></th>\n",
       "      <th></th>\n",
       "      <th></th>\n",
       "    </tr>\n",
       "  </thead>\n",
       "  <tbody>\n",
       "    <tr>\n",
       "      <th>A</th>\n",
       "      <td>94.928479</td>\n",
       "      <td>5.071521</td>\n",
       "      <td>100.0</td>\n",
       "    </tr>\n",
       "    <tr>\n",
       "      <th>B</th>\n",
       "      <td>95.384389</td>\n",
       "      <td>4.615611</td>\n",
       "      <td>100.0</td>\n",
       "    </tr>\n",
       "    <tr>\n",
       "      <th>All</th>\n",
       "      <td>95.300324</td>\n",
       "      <td>4.699676</td>\n",
       "      <td>100.0</td>\n",
       "    </tr>\n",
       "  </tbody>\n",
       "</table>\n",
       "</div>"
      ],
      "text/plain": [
       "qty_pay          0         1    All\n",
       "grp                                \n",
       "A        94.928479  5.071521  100.0\n",
       "B        95.384389  4.615611  100.0\n",
       "All      95.300324  4.699676  100.0"
      ]
     },
     "execution_count": 22,
     "metadata": {},
     "output_type": "execute_result"
    }
   ],
   "source": [
    "100*groupped.div(groupped['All'], axis=0)"
   ]
  },
  {
   "cell_type": "markdown",
   "metadata": {},
   "source": [
    "**Вывод**\n",
    "\n",
    "Уровень конверсии в контрольной группе 5.07%, в тестовой показатель уменьшился до 4.6%. По результату наших тестов можно \n",
    "сказать, что уровень изменения конверсии незначителен, что потверждается статистикой.\n",
    "\n",
    "**Не стоит запускать новую механику на всех пользователей!**"
   ]
  },
  {
   "cell_type": "markdown",
   "metadata": {},
   "source": [
    "# ПРОВЕРИМ СТАТИСТИЧЕСКУЮ ГИПОТЕЗУ BOOTSTRAP"
   ]
  },
  {
   "cell_type": "markdown",
   "metadata": {},
   "source": [
    "**H0 : Между двумя группами нет существенной разницы в отношении новой механики оплаты услуг на сайте.**\n",
    "\n",
    "**Н1: Есть разница.**"
   ]
  },
  {
   "cell_type": "code",
   "execution_count": 23,
   "metadata": {},
   "outputs": [],
   "source": [
    "# Объявим функцию, которая позволит проверять гипотезы с помощью бутстрапа\n",
    "def get_bootstrap(\n",
    "    data_column_1, # числовые значения первой выборки\n",
    "    data_column_2, # числовые значения второй выборки\n",
    "    boot_it = 1000, # количество бутстрэп-подвыборок\n",
    "    statistic = np.mean, # интересующая нас статистика\n",
    "    bootstrap_conf_level = 0.95 # уровень значимости\n",
    "):\n",
    "    boot_len = max([len(data_column_1), len(data_column_2)])\n",
    "    boot_data = []\n",
    "    for i in tqdm(range(boot_it)): # извлекаем подвыборки\n",
    "        samples_1 = data_column_1.sample(\n",
    "            boot_len, \n",
    "            replace = True # параметр возвращения\n",
    "        ).values\n",
    "        \n",
    "        samples_2 = data_column_2.sample(\n",
    "            boot_len, \n",
    "            replace = True\n",
    "        ).values\n",
    "        \n",
    "        boot_data.append(statistic(samples_1-samples_2)) # mean() - применяем статистику\n",
    "        \n",
    "    pd_boot_data = pd.DataFrame(boot_data)\n",
    "        \n",
    "    left_quant = (1 - bootstrap_conf_level)/2\n",
    "    right_quant = 1 - (1 - bootstrap_conf_level) / 2\n",
    "    ci = pd_boot_data.quantile([left_quant, right_quant])\n",
    "        \n",
    "    p_1 = norm.cdf(\n",
    "        x = 0, \n",
    "        loc = np.mean(boot_data), \n",
    "        scale = np.std(boot_data)\n",
    "    )\n",
    "    p_2 = norm.cdf(\n",
    "        x = 0, \n",
    "        loc = -np.mean(boot_data), \n",
    "        scale = np.std(boot_data)\n",
    "    )\n",
    "    p_value = min(p_1, p_2) * 2\n",
    "        \n",
    "    # Визуализация\n",
    "    plt.hist(pd_boot_data[0], bins = 50)\n",
    "    \n",
    "    plt.style.use('ggplot')\n",
    "    plt.vlines(ci,ymin=0,ymax=50,linestyle='--')\n",
    "    plt.xlabel('boot_data')\n",
    "    plt.ylabel('frequency')\n",
    "    plt.title(\"Histogram of boot_data\")\n",
    "    plt.show()\n",
    "       \n",
    "    return {\"boot_data\": boot_data, \n",
    "            \"ci\": ci, \n",
    "            \"p_value\": p_value}"
   ]
  },
  {
   "cell_type": "code",
   "execution_count": 24,
   "metadata": {},
   "outputs": [
    {
     "data": {
      "application/vnd.jupyter.widget-view+json": {
       "model_id": "4443af6c42ac46f7b4082c2a5f100f85",
       "version_major": 2,
       "version_minor": 0
      },
      "text/plain": [
       "HBox(children=(FloatProgress(value=0.0, max=2000.0), HTML(value='')))"
      ]
     },
     "metadata": {},
     "output_type": "display_data"
    },
    {
     "name": "stdout",
     "output_type": "stream",
     "text": [
      "\n"
     ]
    },
    {
     "data": {
      "image/png": "[encoded data removed]",
      "text/plain": [
       "<Figure size 432x288 with 1 Axes>"
      ]
     },
     "metadata": {},
     "output_type": "display_data"
    }
   ],
   "source": [
    "booted_data = get_bootstrap(df_control[\"qty_pay\"], df_test[\"qty_pay\"], boot_it = 2000) # в результате хранится разница двух распределений, ДИ и pvalue"
   ]
  },
  {
   "cell_type": "code",
   "execution_count": 25,
   "metadata": {},
   "outputs": [
    {
     "name": "stdout",
     "output_type": "stream",
     "text": [
      "p-value = 0.2162\n"
     ]
    }
   ],
   "source": [
    "booted_data[\"p_value\"]\n",
    "\n",
    "print('p-value = %.4f' % (booted_data[\"p_value\"]))"
   ]
  },
  {
   "cell_type": "code",
   "execution_count": 26,
   "metadata": {},
   "outputs": [
    {
     "data": {
      "text/html": [
       "<div>\n",
       "<style scoped>\n",
       "    .dataframe tbody tr th:only-of-type {\n",
       "        vertical-align: middle;\n",
       "    }\n",
       "\n",
       "    .dataframe tbody tr th {\n",
       "        vertical-align: top;\n",
       "    }\n",
       "\n",
       "    .dataframe thead th {\n",
       "        text-align: right;\n",
       "    }\n",
       "</style>\n",
       "<table border=\"1\" class=\"dataframe\">\n",
       "  <thead>\n",
       "    <tr style=\"text-align: right;\">\n",
       "      <th></th>\n",
       "      <th>0</th>\n",
       "    </tr>\n",
       "  </thead>\n",
       "  <tbody>\n",
       "    <tr>\n",
       "      <th>0.025</th>\n",
       "      <td>-0.002646</td>\n",
       "    </tr>\n",
       "    <tr>\n",
       "      <th>0.975</th>\n",
       "      <td>0.012054</td>\n",
       "    </tr>\n",
       "  </tbody>\n",
       "</table>\n",
       "</div>"
      ],
      "text/plain": [
       "              0\n",
       "0.025 -0.002646\n",
       "0.975  0.012054"
      ]
     },
     "execution_count": 26,
     "metadata": {},
     "output_type": "execute_result"
    }
   ],
   "source": [
    "booted_data[\"ci\"]"
   ]
  },
  {
   "cell_type": "markdown",
   "metadata": {},
   "source": [
    "**Вывод**\n",
    "\n",
    "p-value > 0,05 не отклоняем Н0 гипотезу. Боотстрап подтверждает предыдущие выводы.\n",
    "\n",
    "**Не стоит запускать новую механику на всех пользователей!**"
   ]
  },
  {
   "cell_type": "markdown",
   "metadata": {},
   "source": [
    "# Проверим гипотезу ещё одним методом хи-квадрат."
   ]
  },
  {
   "cell_type": "markdown",
   "metadata": {},
   "source": [
    "Н0 - доли равни\n",
    "Н1 - доли не равны"
   ]
  },
  {
   "cell_type": "code",
   "execution_count": 27,
   "metadata": {},
   "outputs": [],
   "source": [
    "#Построим таблицу сопряжености\n",
    "contingency_table = df.query('active == 1').groupby('grp').agg({'qty_pay': sum, 'active': sum})"
   ]
  },
  {
   "cell_type": "code",
   "execution_count": 28,
   "metadata": {},
   "outputs": [
    {
     "name": "stdout",
     "output_type": "stream",
     "text": [
      "p-value = 0.5090\n"
     ]
    }
   ],
   "source": [
    "res = chi2_contingency(contingency_table)\n",
    "print('p-value = %.4f' % (res[1]))"
   ]
  },
  {
   "cell_type": "markdown",
   "metadata": {},
   "source": [
    "**Вывод**\n",
    "\n",
    "p-value получается > 0,05, поэтому основание отвергнуть гипотезу о равенстве долей нет."
   ]
  },
  {
   "cell_type": "markdown",
   "metadata": {},
   "source": [
    "# Задание 2. SQL"
   ]
  },
  {
   "cell_type": "markdown",
   "metadata": {},
   "source": [
    "**Задание 2. SQL**"
   ]
  },
  {
   "cell_type": "markdown",
   "metadata": {},
   "source": [
    "2.1 Очень усердные ученики.\n",
    "\n",
    "Образовательные курсы состоят из различных уроков, каждый из которых состоит из нескольких маленьких заданий. Каждое такое маленькое задание называется \"горошиной\".\n",
    "\n",
    "Назовём очень усердным учеником того пользователя, который хотя бы раз за текущий месяц правильно решил 20 горошин за час."
   ]
  },
  {
   "cell_type": "code",
   "execution_count": 29,
   "metadata": {},
   "outputs": [
    {
     "data": {
      "text/plain": [
       "''"
      ]
     },
     "execution_count": 29,
     "metadata": {},
     "output_type": "execute_result"
    }
   ],
   "source": [
    "'''SELECT DISTINCT st_id\n",
    "FROM\n",
    "  (SELECT st_id,\n",
    "          sum(correct) OVER w AS res_sum\n",
    "   FROM peas WINDOW w AS (PARTITION BY st_id\n",
    "                          ORDER BY timest ASC RANGE BETWEEN '1 hour' PRECEDING AND '1 hour' FOLLOWING)\n",
    "   ORDER BY st_id ASC) AS a\n",
    "   \n",
    "WHERE res_sum >= 20'''\n",
    "''''''"
   ]
  },
  {
   "cell_type": "markdown",
   "metadata": {},
   "source": [
    "2.1.2 Задача\n",
    "\n",
    "Необходимо написать оптимальный запрос, который даст информацию о количестве очень усердных студентов за март 2020 года.\n",
    "\n",
    "NB! Под усердным студентом мы понимаем студента, который правильно решил 20 задач за текущий месяц."
   ]
  },
  {
   "cell_type": "code",
   "execution_count": 30,
   "metadata": {},
   "outputs": [
    {
     "data": {
      "text/plain": [
       "''"
      ]
     },
     "execution_count": 30,
     "metadata": {},
     "output_type": "execute_result"
    }
   ],
   "source": [
    "'''SELECT st_id, sum(correct)\n",
    "FROM peas\n",
    "where timest between '2020-03-01' and '2022-03-31'\n",
    "group by st_id\n",
    "having sum(correct) > 20'''\n",
    "''''''"
   ]
  },
  {
   "cell_type": "markdown",
   "metadata": {},
   "source": [
    "**2.2 Оптимизация воронки**\n",
    "\n",
    "2.2.1 Условие\n",
    "\n",
    "Образовательная платформа предлагает пройти студентам курсы по модели trial: студент может решить бесплатно лишь 30 горошин в день. Для неограниченного количества заданий в определенной дисциплине студенту необходимо приобрести полный доступ. Команда провела эксперимент, где был протестирован новый экран оплаты.\n",
    "\n",
    "Необходимо в одном запросе выгрузить следующую информацию о группах пользователей:\n",
    "\n",
    "ARPU \n",
    "\n",
    "ARPAU \n",
    "\n",
    "CR в покупку \n",
    "\n",
    "СR активного пользователя в покупку \n",
    "\n",
    "CR пользователя из активности по математике (subject = ’math’) в покупку курса по математике"
   ]
  },
  {
   "cell_type": "code",
   "execution_count": 31,
   "metadata": {},
   "outputs": [
    {
     "data": {
      "text/html": [
       "<div>\n",
       "<style scoped>\n",
       "    .dataframe tbody tr th:only-of-type {\n",
       "        vertical-align: middle;\n",
       "    }\n",
       "\n",
       "    .dataframe tbody tr th {\n",
       "        vertical-align: top;\n",
       "    }\n",
       "\n",
       "    .dataframe thead th {\n",
       "        text-align: right;\n",
       "    }\n",
       "</style>\n",
       "<table border=\"1\" class=\"dataframe\">\n",
       "  <thead>\n",
       "    <tr style=\"text-align: right;\">\n",
       "      <th></th>\n",
       "      <th>arpau</th>\n",
       "      <th>arpu</th>\n",
       "      <th>cr</th>\n",
       "      <th>cr актив. пользов.</th>\n",
       "      <th>cr_math</th>\n",
       "    </tr>\n",
       "  </thead>\n",
       "  <tbody>\n",
       "    <tr>\n",
       "      <th>0</th>\n",
       "      <td>98.166667</td>\n",
       "      <td>98.166667</td>\n",
       "      <td>0.333333</td>\n",
       "      <td>0.333333</td>\n",
       "      <td>0.166667</td>\n",
       "    </tr>\n",
       "    <tr>\n",
       "      <th>1</th>\n",
       "      <td>208.750000</td>\n",
       "      <td>208.750000</td>\n",
       "      <td>0.750000</td>\n",
       "      <td>0.750000</td>\n",
       "      <td>0.500000</td>\n",
       "    </tr>\n",
       "  </tbody>\n",
       "</table>\n",
       "</div>"
      ],
      "text/plain": [
       "        arpau        arpu        cr  cr актив. пользов.   cr_math\n",
       "0   98.166667   98.166667  0.333333            0.333333  0.166667\n",
       "1  208.750000  208.750000  0.750000            0.750000  0.500000"
      ]
     },
     "execution_count": 31,
     "metadata": {},
     "output_type": "execute_result"
    }
   ],
   "source": [
    "'''SELECT CAST(\"Доход\" AS float) / CAST(\"Активный пользователей\" AS float) AS ARPAU,\n",
    "      CAST(\"Доход\" AS float) / CAST(\"Число пользователей\" AS float) AS ARPU,\n",
    "      CAST(\"Число клиентов\" AS float) / CAST(\"Число пользователей\" AS float) as CR,\n",
    "      CAST(\"Число клиентов\" AS float) / CAST(\"Активный пользователей\" AS float) as \"cr актив. пользов.\",\n",
    "      CAST(\"Число покупок math\" AS float) / CAST(\"Актив пользов по math\" AS float) as CR_math\n",
    "FROM\n",
    "  (SELECT test_grp,\n",
    "          COUNT(DISTINCT st_id) filter(\n",
    "                                       WHERE MONEY > 0) AS \"Число клиентов\",\n",
    "          COUNT(MONEY) AS \"Число покупок\",\n",
    "          sum(MONEY) AS \"Доход\",\n",
    "          COUNT(DISTINCT st_id) AS \"Число пользователей\",\n",
    "          COUNT(DISTINCT st_id) filter(\n",
    "                                       WHERE sum_correct > 0) AS \"Активный пользователей\",\n",
    "          COUNT(DISTINCT st_id) filter(\n",
    "                                       WHERE subject = 'math'\n",
    "                                         AND sum_correct > 0) AS \"Актив пользов по math\",\n",
    "          COUNT(MONEY) filter(\n",
    "                              WHERE subject = 'math'\n",
    "                                AND sum_correct > 0) AS \"Число покупок math\"\n",
    "   FROM\n",
    "     (SELECT D.st_id,\n",
    "             D.subject,\n",
    "             D.sum_correct,\n",
    "             D.test_grp,\n",
    "             C.money\n",
    "      FROM\n",
    "        (SELECT A.id,\n",
    "                A.st_id,\n",
    "                A.subject,\n",
    "                A.sum_correct,\n",
    "                B.test_grp\n",
    "         FROM\n",
    "           (SELECT st_id,\n",
    "                   subject,\n",
    "                   concat(st_id, subject) AS id,\n",
    "                   sum(correct) AS sum_correct\n",
    "            FROM peas\n",
    "            GROUP BY st_id,\n",
    "                     subject,\n",
    "                     id) AS A\n",
    "         LEFT JOIN studs AS B ON A.st_id = B.st_id) AS D\n",
    "      LEFT JOIN\n",
    "        (SELECT MONEY,\n",
    "                concat(st_id, subject) AS id\n",
    "         FROM checks) AS C ON D.id = C.id) AS J\n",
    "   GROUP BY test_grp) AS H'''\n",
    "\n",
    "''''''\n",
    "\n",
    "data = pd.read_csv('task-2_2_2.csv')\n",
    "data"
   ]
  },
  {
   "cell_type": "markdown",
   "metadata": {},
   "source": [
    "# Задание 3. Python"
   ]
  },
  {
   "cell_type": "markdown",
   "metadata": {},
   "source": [
    "**3.1 Задача**\n",
    "\n",
    "Реализуйте функцию, которая будет автоматически подгружать информацию из дополнительного файла groups_add.csv (заголовки могут отличаться) и на основании дополнительных параметров пересчитывать метрики.\n",
    "Реализуйте функцию, которая будет строить графики по получаемым метрикам."
   ]
  },
  {
   "cell_type": "code",
   "execution_count": 1,
   "metadata": {},
   "outputs": [],
   "source": [
    "#Проверяет еcть ли файл \"Проект_2_group_add.csv\" в папке. Функция для автоматическоЙ загрузки файла.\n",
    "def add_data(name):\n",
    "    file_name = name #file to be searched\n",
    "    cur_dir = os.getcwd() # Dir from where search starts can be replaced with any pathwhile True:\n",
    "    file_list = os.listdir(cur_dir)\n",
    "    parent_dir = os.path.dirname(cur_dir)\n",
    "    if file_name in file_list:\n",
    "        print(\"File Exists in: \", cur_dir)\n",
    "        #  файл с информацией о принадлежности пользователя к контрольной \n",
    "        #  или экспериментальной группе (А – контроль, B – целевая группа) \n",
    "        groups = pd.read_csv(\"Проект_2_groups.csv\", sep=\";\")\n",
    "        # дополнительный файл с пользователями, который вам прислали спустя 2 дня после передачи данных\n",
    "        group_add = pd.read_csv(name)\n",
    "        return pd.concat([groups,group_add],axis=0)\n",
    "    else:\n",
    "        return pd.read_csv(\"Проект_2_groups.csv\", sep=\";\")\n",
    "    \n",
    "        "
   ]
  },
  {
   "cell_type": "code",
   "execution_count": 53,
   "metadata": {},
   "outputs": [
    {
     "name": "stdout",
     "output_type": "stream",
     "text": [
      "File Exists in:  /mnt/HC_Volume_18315164/home-jupyter/jupyter-r-mangursuzjan-18/final_project\n"
     ]
    }
   ],
   "source": [
    "data = add_data('Проект_2_group_add.csv')"
   ]
  },
  {
   "cell_type": "code",
   "execution_count": 60,
   "metadata": {},
   "outputs": [],
   "source": [
    "#Объединение данных и замена Nan на \"0\"\n",
    "df = data.merge(checks, how='left').merge(active_studs, how='left').merge(group_add, how='left').fillna(0)\n",
    "#добавление столбца с кол-во оплат.\n",
    "df['qty_pay'] = df['rev'].apply(lambda x: 1 if x>0 else 0)\n",
    "df.head()\n",
    "\n",
    "#Разделяем на две группы control и test\n",
    "df_control = df[(df['grp']=='A')&(df['active'] == 1)][['grp', 'qty_pay']]\n",
    "df_control.reset_index(inplace=True, drop = True)\n",
    "df_test = df[(df['grp']=='B')&(df['active'] == 1)][['grp', 'qty_pay']]\n",
    "df_test.reset_index(inplace=True, drop = True)\n"
   ]
  },
  {
   "cell_type": "markdown",
   "metadata": {},
   "source": [
    "# ПРОВЕРИМ СТАТИСТИЧЕСКУЮ ГИПОТЕЗУ BOOTSTRAP"
   ]
  },
  {
   "cell_type": "markdown",
   "metadata": {},
   "source": [
    "**H0 : Между двумя группами нет существенной разницы в отношении новой механики оплаты услуг на сайте.**\n",
    "\n",
    "**Н1: Есть разница.**"
   ]
  },
  {
   "cell_type": "code",
   "execution_count": 61,
   "metadata": {},
   "outputs": [],
   "source": [
    "# Объявим функцию, которая позволит проверять гипотезы с помощью бутстрапа\n",
    "def get_bootstrap(\n",
    "    data_column_1, # числовые значения первой выборки\n",
    "    data_column_2, # числовые значения второй выборки\n",
    "    boot_it = 1000, # количество бутстрэп-подвыборок\n",
    "    statistic = np.mean, # интересующая нас статистика\n",
    "    bootstrap_conf_level = 0.95 # уровень значимости\n",
    "):\n",
    "    boot_len = max([len(data_column_1), len(data_column_2)])\n",
    "    boot_data = []\n",
    "    for i in tqdm(range(boot_it)): # извлекаем подвыборки\n",
    "        samples_1 = data_column_1.sample(\n",
    "            boot_len, \n",
    "            replace = True # параметр возвращения\n",
    "        ).values\n",
    "        \n",
    "        samples_2 = data_column_2.sample(\n",
    "            boot_len, \n",
    "            replace = True\n",
    "        ).values\n",
    "        \n",
    "        boot_data.append(statistic(samples_1-samples_2)) # mean() - применяем статистику\n",
    "        \n",
    "    pd_boot_data = pd.DataFrame(boot_data)\n",
    "        \n",
    "    left_quant = (1 - bootstrap_conf_level)/2\n",
    "    right_quant = 1 - (1 - bootstrap_conf_level) / 2\n",
    "    ci = pd_boot_data.quantile([left_quant, right_quant])\n",
    "        \n",
    "    p_1 = norm.cdf(\n",
    "        x = 0, \n",
    "        loc = np.mean(boot_data), \n",
    "        scale = np.std(boot_data)\n",
    "    )\n",
    "    p_2 = norm.cdf(\n",
    "        x = 0, \n",
    "        loc = -np.mean(boot_data), \n",
    "        scale = np.std(boot_data)\n",
    "    )\n",
    "    p_value = min(p_1, p_2) * 2\n",
    "        \n",
    "    # Визуализация\n",
    "    plt.hist(pd_boot_data[0], bins = 50)\n",
    "    \n",
    "    plt.style.use('ggplot')\n",
    "    plt.vlines(ci,ymin=0,ymax=50,linestyle='--')\n",
    "    plt.xlabel('boot_data')\n",
    "    plt.ylabel('frequency')\n",
    "    plt.title(\"Histogram of boot_data\")\n",
    "    plt.show()\n",
    "       \n",
    "    return {\"boot_data\": boot_data, \n",
    "            \"ci\": ci, \n",
    "            \"p_value\": p_value}"
   ]
  },
  {
   "cell_type": "code",
   "execution_count": 62,
   "metadata": {},
   "outputs": [
    {
     "data": {
      "application/vnd.jupyter.widget-view+json": {
       "model_id": "80001ec1fff04a4f92331b4c65160000",
       "version_major": 2,
       "version_minor": 0
      },
      "text/plain": [
       "HBox(children=(FloatProgress(value=0.0, max=2000.0), HTML(value='')))"
      ]
     },
     "metadata": {},
     "output_type": "display_data"
    },
    {
     "name": "stdout",
     "output_type": "stream",
     "text": [
      "\n"
     ]
    },
    {
     "data": {
      "image/png": "[encoded data removed]",
      "text/plain": [
       "<Figure size 432x288 with 1 Axes>"
      ]
     },
     "metadata": {},
     "output_type": "display_data"
    }
   ],
   "source": [
    "booted_data = get_bootstrap(df_control[\"qty_pay\"], df_test[\"qty_pay\"], boot_it = 2000) # в результате хранится разница двух распределений, ДИ и pvalue"
   ]
  },
  {
   "cell_type": "code",
   "execution_count": 63,
   "metadata": {},
   "outputs": [
    {
     "name": "stdout",
     "output_type": "stream",
     "text": [
      "p-value = 0.2125\n"
     ]
    }
   ],
   "source": [
    "booted_data[\"p_value\"]\n",
    "\n",
    "print('p-value = %.4f' % (booted_data[\"p_value\"]))"
   ]
  },
  {
   "cell_type": "code",
   "execution_count": 64,
   "metadata": {},
   "outputs": [
    {
     "data": {
      "text/html": [
       "<div>\n",
       "<style scoped>\n",
       "    .dataframe tbody tr th:only-of-type {\n",
       "        vertical-align: middle;\n",
       "    }\n",
       "\n",
       "    .dataframe tbody tr th {\n",
       "        vertical-align: top;\n",
       "    }\n",
       "\n",
       "    .dataframe thead th {\n",
       "        text-align: right;\n",
       "    }\n",
       "</style>\n",
       "<table border=\"1\" class=\"dataframe\">\n",
       "  <thead>\n",
       "    <tr style=\"text-align: right;\">\n",
       "      <th></th>\n",
       "      <th>0</th>\n",
       "    </tr>\n",
       "  </thead>\n",
       "  <tbody>\n",
       "    <tr>\n",
       "      <th>0.025</th>\n",
       "      <td>-0.002499</td>\n",
       "    </tr>\n",
       "    <tr>\n",
       "      <th>0.975</th>\n",
       "      <td>0.011907</td>\n",
       "    </tr>\n",
       "  </tbody>\n",
       "</table>\n",
       "</div>"
      ],
      "text/plain": [
       "              0\n",
       "0.025 -0.002499\n",
       "0.975  0.011907"
      ]
     },
     "execution_count": 64,
     "metadata": {},
     "output_type": "execute_result"
    }
   ],
   "source": [
    "booted_data[\"ci\"]"
   ]
  },
  {
   "cell_type": "markdown",
   "metadata": {},
   "source": [
    "**Вывод**\n",
    "\n",
    "p-value > 0,05 не отклоняем Н0 гипотезу. Боотстрап подтверждает предыдущие выводы.\n",
    "\n",
    "**Не стоит запускать новую механику на всех пользователей!**"
   ]
  },
  {
   "cell_type": "code",
   "execution_count": null,
   "metadata": {},
   "outputs": [],
   "source": []
  }
 ],
 "metadata": {
  "kernelspec": {
   "display_name": "Python 3",
   "language": "python",
   "name": "python3"
  },
  "language_info": {
   "codemirror_mode": {
    "name": "ipython",
    "version": 3
   },
   "file_extension": ".py",
   "mimetype": "text/x-python",
   "name": "python",
   "nbconvert_exporter": "python",
   "pygments_lexer": "ipython3",
   "version": "3.7.3"
  }
 },
 "nbformat": 4,
 "nbformat_minor": 4
}
